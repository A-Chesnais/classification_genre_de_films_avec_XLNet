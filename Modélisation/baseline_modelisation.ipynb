{
 "cells": [
  {
   "cell_type": "code",
   "execution_count": 53,
   "metadata": {},
   "outputs": [],
   "source": [
    "import pandas as pd\n",
    "import numpy as np\n",
    "\n",
    "from sklearn.feature_extraction.text import TfidfVectorizer\n",
    "from sklearn.model_selection import train_test_split\n",
    "from sklearn.model_selection import GridSearchCV, PredefinedSplit\n",
    "\n",
    "from sklearn.dummy import DummyClassifier\n",
    "from sklearn.multiclass import OneVsRestClassifier\n",
    "from sklearn import linear_model\n",
    "\n",
    "from sklearn.metrics import f1_score\n",
    "from sklearn.metrics import precision_recall_fscore_support\n",
    "\n",
    "import seaborn as sns\n",
    "import matplotlib.pyplot as plt"
   ]
  },
  {
   "cell_type": "markdown",
   "metadata": {},
   "source": [
    "# Import des données"
   ]
  },
  {
   "cell_type": "code",
   "execution_count": 2,
   "metadata": {},
   "outputs": [],
   "source": [
    "train_data = pd.read_csv('train_set.csv', index_col='id')\n",
    "test_data = pd.read_csv('validation_set.csv', index_col='id')\n",
    "labels = train_data.columns[1:]"
   ]
  },
  {
   "cell_type": "code",
   "execution_count": 3,
   "metadata": {
    "scrolled": true
   },
   "outputs": [
    {
     "data": {
      "text/html": [
       "<div>\n",
       "<style scoped>\n",
       "    .dataframe tbody tr th:only-of-type {\n",
       "        vertical-align: middle;\n",
       "    }\n",
       "\n",
       "    .dataframe tbody tr th {\n",
       "        vertical-align: top;\n",
       "    }\n",
       "\n",
       "    .dataframe thead th {\n",
       "        text-align: right;\n",
       "    }\n",
       "</style>\n",
       "<table border=\"1\" class=\"dataframe\">\n",
       "  <thead>\n",
       "    <tr style=\"text-align: right;\">\n",
       "      <th></th>\n",
       "      <th>cleaned_plots</th>\n",
       "      <th>Drama</th>\n",
       "      <th>Comedy</th>\n",
       "      <th>Romance Film</th>\n",
       "      <th>Thriller</th>\n",
       "      <th>Action</th>\n",
       "      <th>World cinema</th>\n",
       "      <th>Crime Fiction</th>\n",
       "      <th>Horror</th>\n",
       "      <th>Black-and-white</th>\n",
       "      <th>...</th>\n",
       "      <th>Coming of age</th>\n",
       "      <th>Martial Arts Film</th>\n",
       "      <th>Cult</th>\n",
       "      <th>Sports</th>\n",
       "      <th>Television movie</th>\n",
       "      <th>Slasher</th>\n",
       "      <th>Suspense</th>\n",
       "      <th>Biographical film</th>\n",
       "      <th>Biography</th>\n",
       "      <th>Supernatural</th>\n",
       "    </tr>\n",
       "    <tr>\n",
       "      <th>id</th>\n",
       "      <th></th>\n",
       "      <th></th>\n",
       "      <th></th>\n",
       "      <th></th>\n",
       "      <th></th>\n",
       "      <th></th>\n",
       "      <th></th>\n",
       "      <th></th>\n",
       "      <th></th>\n",
       "      <th></th>\n",
       "      <th></th>\n",
       "      <th></th>\n",
       "      <th></th>\n",
       "      <th></th>\n",
       "      <th></th>\n",
       "      <th></th>\n",
       "      <th></th>\n",
       "      <th></th>\n",
       "      <th></th>\n",
       "      <th></th>\n",
       "      <th></th>\n",
       "    </tr>\n",
       "  </thead>\n",
       "  <tbody>\n",
       "    <tr>\n",
       "      <td>4343361</td>\n",
       "      <td>alex kovac playing poker new york city drops g...</td>\n",
       "      <td>0</td>\n",
       "      <td>1</td>\n",
       "      <td>0</td>\n",
       "      <td>0</td>\n",
       "      <td>0</td>\n",
       "      <td>0</td>\n",
       "      <td>0</td>\n",
       "      <td>0</td>\n",
       "      <td>0</td>\n",
       "      <td>...</td>\n",
       "      <td>0</td>\n",
       "      <td>0</td>\n",
       "      <td>0</td>\n",
       "      <td>0</td>\n",
       "      <td>0</td>\n",
       "      <td>0</td>\n",
       "      <td>0</td>\n",
       "      <td>0</td>\n",
       "      <td>0</td>\n",
       "      <td>0</td>\n",
       "    </tr>\n",
       "    <tr>\n",
       "      <td>4730</td>\n",
       "      <td>gotham city batman stops hostage situation ban...</td>\n",
       "      <td>0</td>\n",
       "      <td>0</td>\n",
       "      <td>0</td>\n",
       "      <td>1</td>\n",
       "      <td>1</td>\n",
       "      <td>0</td>\n",
       "      <td>1</td>\n",
       "      <td>0</td>\n",
       "      <td>0</td>\n",
       "      <td>...</td>\n",
       "      <td>0</td>\n",
       "      <td>0</td>\n",
       "      <td>0</td>\n",
       "      <td>0</td>\n",
       "      <td>0</td>\n",
       "      <td>0</td>\n",
       "      <td>0</td>\n",
       "      <td>0</td>\n",
       "      <td>0</td>\n",
       "      <td>0</td>\n",
       "    </tr>\n",
       "    <tr>\n",
       "      <td>32037191</td>\n",
       "      <td>small town guy tries decide staying current gi...</td>\n",
       "      <td>0</td>\n",
       "      <td>1</td>\n",
       "      <td>1</td>\n",
       "      <td>0</td>\n",
       "      <td>0</td>\n",
       "      <td>0</td>\n",
       "      <td>0</td>\n",
       "      <td>0</td>\n",
       "      <td>0</td>\n",
       "      <td>...</td>\n",
       "      <td>0</td>\n",
       "      <td>0</td>\n",
       "      <td>0</td>\n",
       "      <td>0</td>\n",
       "      <td>0</td>\n",
       "      <td>0</td>\n",
       "      <td>0</td>\n",
       "      <td>0</td>\n",
       "      <td>0</td>\n",
       "      <td>0</td>\n",
       "    </tr>\n",
       "    <tr>\n",
       "      <td>27376549</td>\n",
       "      <td>montreal west high school student leon bronste...</td>\n",
       "      <td>0</td>\n",
       "      <td>1</td>\n",
       "      <td>0</td>\n",
       "      <td>0</td>\n",
       "      <td>0</td>\n",
       "      <td>0</td>\n",
       "      <td>0</td>\n",
       "      <td>0</td>\n",
       "      <td>0</td>\n",
       "      <td>...</td>\n",
       "      <td>0</td>\n",
       "      <td>0</td>\n",
       "      <td>0</td>\n",
       "      <td>0</td>\n",
       "      <td>0</td>\n",
       "      <td>0</td>\n",
       "      <td>0</td>\n",
       "      <td>0</td>\n",
       "      <td>0</td>\n",
       "      <td>0</td>\n",
       "    </tr>\n",
       "    <tr>\n",
       "      <td>18586060</td>\n",
       "      <td>ice people brings anne aghion crew antarctica ...</td>\n",
       "      <td>0</td>\n",
       "      <td>0</td>\n",
       "      <td>0</td>\n",
       "      <td>0</td>\n",
       "      <td>0</td>\n",
       "      <td>1</td>\n",
       "      <td>0</td>\n",
       "      <td>0</td>\n",
       "      <td>0</td>\n",
       "      <td>...</td>\n",
       "      <td>0</td>\n",
       "      <td>0</td>\n",
       "      <td>0</td>\n",
       "      <td>0</td>\n",
       "      <td>0</td>\n",
       "      <td>0</td>\n",
       "      <td>0</td>\n",
       "      <td>0</td>\n",
       "      <td>0</td>\n",
       "      <td>0</td>\n",
       "    </tr>\n",
       "  </tbody>\n",
       "</table>\n",
       "<p>5 rows × 51 columns</p>\n",
       "</div>"
      ],
      "text/plain": [
       "                                              cleaned_plots  Drama  Comedy  \\\n",
       "id                                                                           \n",
       "4343361   alex kovac playing poker new york city drops g...      0       1   \n",
       "4730      gotham city batman stops hostage situation ban...      0       0   \n",
       "32037191  small town guy tries decide staying current gi...      0       1   \n",
       "27376549  montreal west high school student leon bronste...      0       1   \n",
       "18586060  ice people brings anne aghion crew antarctica ...      0       0   \n",
       "\n",
       "          Romance Film  Thriller  Action  World cinema  Crime Fiction  Horror  \\\n",
       "id                                                                              \n",
       "4343361              0         0       0             0              0       0   \n",
       "4730                 0         1       1             0              1       0   \n",
       "32037191             1         0       0             0              0       0   \n",
       "27376549             0         0       0             0              0       0   \n",
       "18586060             0         0       0             1              0       0   \n",
       "\n",
       "          Black-and-white  ...  Coming of age  Martial Arts Film  Cult  \\\n",
       "id                         ...                                           \n",
       "4343361                 0  ...              0                  0     0   \n",
       "4730                    0  ...              0                  0     0   \n",
       "32037191                0  ...              0                  0     0   \n",
       "27376549                0  ...              0                  0     0   \n",
       "18586060                0  ...              0                  0     0   \n",
       "\n",
       "          Sports  Television movie  Slasher  Suspense  Biographical film  \\\n",
       "id                                                                         \n",
       "4343361        0                 0        0         0                  0   \n",
       "4730           0                 0        0         0                  0   \n",
       "32037191       0                 0        0         0                  0   \n",
       "27376549       0                 0        0         0                  0   \n",
       "18586060       0                 0        0         0                  0   \n",
       "\n",
       "          Biography  Supernatural  \n",
       "id                                 \n",
       "4343361           0             0  \n",
       "4730              0             0  \n",
       "32037191          0             0  \n",
       "27376549          0             0  \n",
       "18586060          0             0  \n",
       "\n",
       "[5 rows x 51 columns]"
      ]
     },
     "metadata": {},
     "output_type": "display_data"
    }
   ],
   "source": [
    "display(test_data.head())"
   ]
  },
  {
   "cell_type": "markdown",
   "metadata": {},
   "source": [
    "# Représentation des données"
   ]
  },
  {
   "cell_type": "markdown",
   "metadata": {},
   "source": [
    "Représentation Tf-Idf des données, conservant uniquement les termes présents dans plus de 10 textes et au maximum dans 20% des documents."
   ]
  },
  {
   "cell_type": "code",
   "execution_count": 123,
   "metadata": {},
   "outputs": [],
   "source": [
    "tf_idf_vectorizer = TfidfVectorizer(max_df=0.20 ,min_df=10, token_pattern='\\S+')\n",
    "X = tf_idf_vectorizer.fit_transform(train_data['cleaned_plots'])"
   ]
  },
  {
   "cell_type": "code",
   "execution_count": 124,
   "metadata": {},
   "outputs": [
    {
     "name": "stdout",
     "output_type": "stream",
     "text": [
      "23638\n"
     ]
    }
   ],
   "source": [
    "print(len(tf_idf_vectorizer.get_feature_names()))"
   ]
  },
  {
   "cell_type": "code",
   "execution_count": 125,
   "metadata": {},
   "outputs": [
    {
     "name": "stdout",
     "output_type": "stream",
     "text": [
      "(29806, 50)\n"
     ]
    }
   ],
   "source": [
    "y = train_data.iloc[:,1:]\n",
    "print(y.shape)"
   ]
  },
  {
   "cell_type": "code",
   "execution_count": 126,
   "metadata": {},
   "outputs": [
    {
     "data": {
      "text/plain": [
       "<29806x23638 sparse matrix of type '<class 'numpy.float64'>'\n",
       "\twith 3249138 stored elements in Compressed Sparse Row format>"
      ]
     },
     "metadata": {},
     "output_type": "display_data"
    }
   ],
   "source": [
    "display(X)"
   ]
  },
  {
   "cell_type": "markdown",
   "metadata": {},
   "source": [
    "Séparation en train / validation set"
   ]
  },
  {
   "cell_type": "code",
   "execution_count": 127,
   "metadata": {},
   "outputs": [],
   "source": [
    "X_train, X_val, y_train, y_val = train_test_split(X, y, test_size=0.2, random_state=42, shuffle=True)"
   ]
  },
  {
   "cell_type": "markdown",
   "metadata": {},
   "source": [
    "# Dummy classifier"
   ]
  },
  {
   "cell_type": "markdown",
   "metadata": {},
   "source": [
    "Création d'un classifieur naif prédisant les genres selon la distribuion du set d'entrainement"
   ]
  },
  {
   "cell_type": "code",
   "execution_count": 128,
   "metadata": {},
   "outputs": [],
   "source": [
    "def get_score(ground_truth, predictions):\n",
    "    global_score = precision_recall_fscore_support(ground_truth, predictions, average='macro')\n",
    "    score = pd.DataFrame(precision_recall_fscore_support(ground_truth, predictions, average=None)).T\n",
    "    score.columns = ['precision', 'recall', 'F1_score', 'count']\n",
    "    score.index = labels\n",
    "    return global_score, score"
   ]
  },
  {
   "cell_type": "code",
   "execution_count": 129,
   "metadata": {},
   "outputs": [
    {
     "data": {
      "text/plain": [
       "DummyClassifier(constant=None, random_state=None, strategy='stratified')"
      ]
     },
     "execution_count": 129,
     "metadata": {},
     "output_type": "execute_result"
    }
   ],
   "source": [
    "dummy_clf = DummyClassifier(strategy=\"stratified\")\n",
    "dummy_clf.fit(X_train, y_train)"
   ]
  },
  {
   "cell_type": "code",
   "execution_count": 130,
   "metadata": {},
   "outputs": [],
   "source": [
    "d_global_train_score, d_train_score = get_score(y_train, dummy_clf.predict(X_train))\n",
    "d_global_val_score, d_val_score = get_score(y_val, dummy_clf.predict(X_val))"
   ]
  },
  {
   "cell_type": "markdown",
   "metadata": {},
   "source": [
    "Performances (précision, rappel, F1 score) :"
   ]
  },
  {
   "cell_type": "code",
   "execution_count": 131,
   "metadata": {},
   "outputs": [
    {
     "data": {
      "text/plain": [
       "(0.060767975322731906, 0.060582201503300626, 0.060668423132187954, None)"
      ]
     },
     "metadata": {},
     "output_type": "display_data"
    },
    {
     "data": {
      "text/plain": [
       "(0.0623673365917411, 0.06258710036072188, 0.062359325546468475, None)"
      ]
     },
     "metadata": {},
     "output_type": "display_data"
    }
   ],
   "source": [
    "display(d_global_train_score)\n",
    "display(d_global_val_score)"
   ]
  },
  {
   "cell_type": "markdown",
   "metadata": {},
   "source": [
    "# SVM"
   ]
  },
  {
   "cell_type": "markdown",
   "metadata": {},
   "source": [
    "Modélisation avec un classifieur SVM et recherche du paramètre de régularisation :"
   ]
  },
  {
   "cell_type": "code",
   "execution_count": 132,
   "metadata": {},
   "outputs": [],
   "source": [
    "parameters = (0.00001, 0.00005, 0.0001, 0.0005, 0.001, 0.005)"
   ]
  },
  {
   "cell_type": "code",
   "execution_count": 162,
   "metadata": {
    "scrolled": false
   },
   "outputs": [
    {
     "name": "stderr",
     "output_type": "stream",
     "text": [
      "//anaconda3/lib/python3.7/site-packages/sklearn/metrics/classification.py:1437: UndefinedMetricWarning: Precision and F-score are ill-defined and being set to 0.0 in labels with no predicted samples.\n",
      "  'precision', 'predicted', average, warn_for)\n",
      "//anaconda3/lib/python3.7/site-packages/sklearn/metrics/classification.py:1437: UndefinedMetricWarning: Precision and F-score are ill-defined and being set to 0.0 in labels with no predicted samples.\n",
      "  'precision', 'predicted', average, warn_for)\n",
      "//anaconda3/lib/python3.7/site-packages/sklearn/metrics/classification.py:1437: UndefinedMetricWarning: Precision and F-score are ill-defined and being set to 0.0 in labels with no predicted samples.\n",
      "  'precision', 'predicted', average, warn_for)\n",
      "//anaconda3/lib/python3.7/site-packages/sklearn/metrics/classification.py:1437: UndefinedMetricWarning: Precision and F-score are ill-defined and being set to 0.0 in labels with no predicted samples.\n",
      "  'precision', 'predicted', average, warn_for)\n",
      "//anaconda3/lib/python3.7/site-packages/sklearn/metrics/classification.py:1437: UndefinedMetricWarning: Precision and F-score are ill-defined and being set to 0.0 in labels with no predicted samples.\n",
      "  'precision', 'predicted', average, warn_for)\n"
     ]
    }
   ],
   "source": [
    "precision_results = pd.DataFrame(columns=['alpha', 'train', 'val'])\n",
    "recall_results = pd.DataFrame(columns=['alpha', 'train', 'val'])\n",
    "F1_results = pd.DataFrame(columns=['alpha', 'train', 'val'])\n",
    "\n",
    "for alpha in parameters:\n",
    "\n",
    "    SVM_model = OneVsRestClassifier(linear_model.SGDClassifier(loss='hinge', alpha=alpha))\n",
    "    SVM_model.fit(X_train, y_train)\n",
    "    \n",
    "    train_score = precision_recall_fscore_support(y_train, SVM_model.predict(X_train), average='macro')\n",
    "    val_score = precision_recall_fscore_support(y_val, SVM_model.predict(X_val), average='macro')\n",
    "\n",
    "    precision_results = precision_results.append({'alpha': alpha, 'train': train_score[0], 'val':val_score[0]},ignore_index=True)\n",
    "    recall_results = recall_results.append({'alpha': alpha, 'train': train_score[1], 'val':val_score[1]},ignore_index=True)\n",
    "    F1_results = F1_results.append({'alpha': alpha, 'train': train_score[2], 'val':val_score[2]}, ignore_index=True)\n",
    "\n",
    "precision_results.set_index('alpha', drop=True, inplace=True)\n",
    "recall_results.set_index('alpha', drop=True, inplace=True)\n",
    "F1_results.set_index('alpha', drop=True, inplace=True)"
   ]
  },
  {
   "cell_type": "markdown",
   "metadata": {},
   "source": [
    "Visualisation des résultats d'entrainement :"
   ]
  },
  {
   "cell_type": "code",
   "execution_count": 181,
   "metadata": {},
   "outputs": [
    {
     "data": {
      "text/plain": [
       "Text(0.5, 1.0, 'F1_score')"
      ]
     },
     "execution_count": 181,
     "metadata": {},
     "output_type": "execute_result"
    },
    {
     "data": {
      "image/png": "[encoded data removed]",
      "text/plain": [
       "<Figure size 1440x360 with 3 Axes>"
      ]
     },
     "metadata": {
      "needs_background": "light"
     },
     "output_type": "display_data"
    }
   ],
   "source": [
    "fig, (ax0, ax1, ax2) = plt.subplots(1,3, sharey=True, figsize=(20,5))\n",
    "sns.lineplot(data=precision_results, markers=True, ax=ax0)\n",
    "ax0.set_xscale('log')\n",
    "ax0.grid(True, linestyle=':')\n",
    "ax0.set_title('Precision', fontsize=15, pad=15)\n",
    "plt.yticks(np.arange(0,1.1,0.1))\n",
    "\n",
    "sns.lineplot(data=recall_results, markers=True, ax=ax1)\n",
    "ax1.set_xscale('log')\n",
    "ax1.grid(True, linestyle=':')\n",
    "ax1.set_title('Recall', fontsize=15, pad=15)\n",
    "\n",
    "sns.lineplot(data=F1_results, markers=True, ax=ax2)\n",
    "ax2.set_xscale('log')\n",
    "ax2.grid(True, linestyle=':')\n",
    "ax2.set_title('F1_score', fontsize=15, pad=15)"
   ]
  },
  {
   "cell_type": "markdown",
   "metadata": {},
   "source": [
    "On etient comme paramètre de régularisation alpha = 0.0001"
   ]
  },
  {
   "cell_type": "markdown",
   "metadata": {},
   "source": [
    "# Analyse des résultats test set"
   ]
  },
  {
   "cell_type": "code",
   "execution_count": 183,
   "metadata": {},
   "outputs": [],
   "source": [
    "def score_vis(score):\n",
    "    precision = score['precision'].sort_index()\n",
    "    recall = score['recall'].sort_index()\n",
    "    nb = score['count'].sort_index()\n",
    "    \n",
    "    fig, (ax0, ax1, ax2) = plt.subplots(3,1, sharex=True, figsize=(20,12))\n",
    "    \n",
    "    sns.barplot(x=precision.index, y=precision.values, ax=ax0)\n",
    "    ax0.set_title('Precision', pad=15, fontsize=20)\n",
    "    ax0.set_ylabel('Precision', fontsize=15, labelpad=15)\n",
    "    \n",
    "    sns.barplot(x=recall.index, y=recall.values, ax=ax1)\n",
    "    ax1.set_title('Recall', pad=15, fontsize=20)\n",
    "    ax1.set_ylabel('Recall', fontsize=15, labelpad=15)\n",
    "    \n",
    "    sns.barplot(x=nb.index, y=nb.values, ax=ax2)\n",
    "    ax2.set_title('Count', pad=15, fontsize=20)\n",
    "    ax2.set_ylabel('Count', fontsize=15, labelpad=15) \n",
    "    \n",
    "    plt.xticks(rotation='vertical')"
   ]
  },
  {
   "cell_type": "code",
   "execution_count": 182,
   "metadata": {},
   "outputs": [
    {
     "data": {
      "text/plain": [
       "OneVsRestClassifier(estimator=SGDClassifier(alpha=0.0001, average=False,\n",
       "                                            class_weight=None,\n",
       "                                            early_stopping=False, epsilon=0.1,\n",
       "                                            eta0=0.0, fit_intercept=True,\n",
       "                                            l1_ratio=0.15,\n",
       "                                            learning_rate='optimal',\n",
       "                                            loss='hinge', max_iter=1000,\n",
       "                                            n_iter_no_change=5, n_jobs=None,\n",
       "                                            penalty='l2', power_t=0.5,\n",
       "                                            random_state=None, shuffle=True,\n",
       "                                            tol=0.001, validation_fraction=0.1,\n",
       "                                            verbose=0, warm_start=False),\n",
       "                    n_jobs=None)"
      ]
     },
     "execution_count": 182,
     "metadata": {},
     "output_type": "execute_result"
    }
   ],
   "source": [
    "final_SVM_model = OneVsRestClassifier(linear_model.SGDClassifier(loss='hinge', alpha=0.0001))\n",
    "final_SVM_model.fit(X_train, y_train)"
   ]
  },
  {
   "cell_type": "code",
   "execution_count": 184,
   "metadata": {},
   "outputs": [],
   "source": [
    "X_test = tf_idf_vectorizer.transform(test_data['cleaned_plots'])"
   ]
  },
  {
   "cell_type": "code",
   "execution_count": 186,
   "metadata": {
    "scrolled": true
   },
   "outputs": [
    {
     "name": "stderr",
     "output_type": "stream",
     "text": [
      "//anaconda3/lib/python3.7/site-packages/sklearn/metrics/classification.py:1437: UndefinedMetricWarning: Precision and F-score are ill-defined and being set to 0.0 in labels with no predicted samples.\n",
      "  'precision', 'predicted', average, warn_for)\n"
     ]
    }
   ],
   "source": [
    "global_test_score, test_score = get_score(test_data.iloc[:,1:], final_SVM_model.predict(X_test))"
   ]
  },
  {
   "cell_type": "markdown",
   "metadata": {},
   "source": [
    "Performances (précision, rappel, F1 score) :"
   ]
  },
  {
   "cell_type": "code",
   "execution_count": 188,
   "metadata": {},
   "outputs": [
    {
     "data": {
      "text/plain": [
       "(0.411485867081045, 0.08501330781199964, 0.1267795957369233, None)"
      ]
     },
     "metadata": {},
     "output_type": "display_data"
    }
   ],
   "source": [
    "display(global_test_score)"
   ]
  },
  {
   "cell_type": "markdown",
   "metadata": {},
   "source": [
    "Détails des scores par classe :"
   ]
  },
  {
   "cell_type": "code",
   "execution_count": 189,
   "metadata": {},
   "outputs": [
    {
     "data": {
      "image/png": "[encoded data removed]",
      "text/plain": [
       "<Figure size 1440x864 with 3 Axes>"
      ]
     },
     "metadata": {
      "needs_background": "light"
     },
     "output_type": "display_data"
    }
   ],
   "source": [
    "score_vis(test_score)"
   ]
  },
  {
   "cell_type": "code",
   "execution_count": null,
   "metadata": {},
   "outputs": [],
   "source": []
  }
 ],
 "metadata": {
  "hide_input": false,
  "kernelspec": {
   "display_name": "Python 3",
   "language": "python",
   "name": "python3"
  },
  "language_info": {
   "codemirror_mode": {
    "name": "ipython",
    "version": 3
   },
   "file_extension": ".py",
   "mimetype": "text/x-python",
   "name": "python",
   "nbconvert_exporter": "python",
   "pygments_lexer": "ipython3",
   "version": "3.7.4"
  },
  "toc": {
   "base_numbering": 1,
   "nav_menu": {},
   "number_sections": true,
   "sideBar": true,
   "skip_h1_title": false,
   "title_cell": "Table of Contents",
   "title_sidebar": "Contents",
   "toc_cell": false,
   "toc_position": {},
   "toc_section_display": true,
   "toc_window_display": false
  }
 },
 "nbformat": 4,
 "nbformat_minor": 2
}
